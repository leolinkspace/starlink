{
 "cells": [
  {
   "cell_type": "code",
   "execution_count": 25,
   "metadata": {},
   "outputs": [
    {
     "name": "stdout",
     "output_type": "stream",
     "text": [
      "Loaded 545 satellites\n",
      "EarthSatellite 'STARLINK-1130 (DARKSAT)' number=44932 epoch=2020-06-18T16:00:01Z\n"
     ]
    }
   ],
   "source": [
    "from skyfield.api import Topos, load\n",
    "\n",
    "starlink_url = 'http://celestrak.com/NORAD/elements/starlink.txt'\n",
    "satellites = load.tle_file(starlink_url)\n",
    "print('Loaded', len(satellites), 'satellites')\n",
    "#for sat in satellites:\n",
    "#    print(sat)\n",
    "\n",
    "ts = load.timescale(builtin=True)\n",
    "t_now = ts.now()\n",
    "dt_now = ts.now().utc_datetime()\n",
    "dt_morning = dt_now.replace(hour=0,minute=0,second=0, microsecond=0)\n",
    "dt_evening = dt_now.replace(hour=23,minute=59,second=59, microsecond=0)\n",
    "\n",
    "tm = ts.utc(dt_morning)\n",
    "te = ts.utc(dt_evening)\n",
    "\n",
    "seattle = Topos('47.6062 N', '122.3321 W')\n",
    "\n",
    "by_name = {sat.name: sat for sat in satellites}\n",
    "satellite = by_name['STARLINK-1130 (DARKSAT)']\n",
    "print(satellite)\n"
   ]
  },
  {
   "cell_type": "code",
   "execution_count": 42,
   "metadata": {},
   "outputs": [
    {
     "name": "stdout",
     "output_type": "stream",
     "text": [
      "EarthSatellite 'STARLINK-1130 (DARKSAT)' number=44932 epoch=2020-06-18T16:00:01Z\n",
      "Latitude: 51deg 35' 02.0\"\n",
      "Longitude: -83deg 12' 20.6\"\n",
      "Elevation: 554 km\n"
     ]
    }
   ],
   "source": [
    "t = ts.now()\n",
    "\n",
    "geocentric = satellite.at(t)\n",
    "#print(geocentric.position.km)\n",
    "\n",
    "subpoint = geocentric.subpoint()\n",
    "print(satellite)\n",
    "print('Latitude:', subpoint.latitude)\n",
    "print('Longitude:', subpoint.longitude)\n",
    "#print('Elevation (m):', int(subpoint.elevation.m))\n",
    "\n",
    "above = satellite - Topos(subpoint.latitude,subpoint.longitude)\n",
    "topocentric = above.at(t)\n",
    "alt, az, distance = topocentric.altaz()\n",
    "print('Elevation:',int(distance.km),'km')\n"
   ]
  },
  {
   "cell_type": "code",
   "execution_count": 43,
   "metadata": {},
   "outputs": [
    {
     "name": "stdout",
     "output_type": "stream",
     "text": [
      "2020 Jun 18 00:29:19 rise above 25.0°\n",
      "2020 Jun 18 00:31:04 culminate\n",
      "2020 Jun 18 00:33:01 set below 25.0°\n",
      "2020 Jun 18 17:44:27 rise above 25.0°\n",
      "2020 Jun 18 17:46:23 culminate\n",
      "2020 Jun 18 17:48:25 set below 25.0°\n",
      "2020 Jun 18 19:23:48 rise above 25.0°\n",
      "2020 Jun 18 19:25:58 culminate\n",
      "2020 Jun 18 19:28:09 set below 25.0°\n",
      "2020 Jun 18 21:04:17 rise above 25.0°\n",
      "2020 Jun 18 21:06:05 culminate\n",
      "2020 Jun 18 21:07:55 set below 25.0°\n",
      "2020 Jun 18 22:43:47 rise above 25.0°\n",
      "2020 Jun 18 22:46:06 culminate\n",
      "2020 Jun 18 22:48:25 set below 25.0°\n"
     ]
    }
   ],
   "source": [
    "degrees=25.0\n",
    "\n",
    "times, events = satellite.find_events(seattle, tm, te, altitude_degrees=degrees)\n",
    "\n",
    "for ti, event in zip(times, events):\n",
    "    name = ('rise above %s°'%degrees, 'culminate', 'set below %s°'%degrees)[event]\n",
    "    print(ti.utc_strftime('%Y %b %d %H:%M:%S'), name)"
   ]
  },
  {
   "cell_type": "code",
   "execution_count": null,
   "metadata": {},
   "outputs": [],
   "source": []
  }
 ],
 "metadata": {
  "kernelspec": {
   "display_name": "Python 3",
   "language": "python",
   "name": "python3"
  },
  "language_info": {
   "codemirror_mode": {
    "name": "ipython",
    "version": 3
   },
   "file_extension": ".py",
   "mimetype": "text/x-python",
   "name": "python",
   "nbconvert_exporter": "python",
   "pygments_lexer": "ipython3",
   "version": "3.8.3"
  }
 },
 "nbformat": 4,
 "nbformat_minor": 4
}
