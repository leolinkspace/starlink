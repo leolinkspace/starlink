{
 "cells": [
  {
   "cell_type": "code",
   "execution_count": 3,
   "metadata": {},
   "outputs": [
    {
     "name": "stdout",
     "output_type": "stream",
     "text": [
      "Loaded 70 satellites\n"
     ]
    }
   ],
   "source": [
    "from skyfield.api import Topos, load\n",
    "\n",
    "stations_url = 'http://celestrak.com/NORAD/elements/stations.txt'\n",
    "satellites = load.tle_file(stations_url)\n",
    "print('Loaded', len(satellites), 'satellites')\n",
    "#for sat in satellites:\n",
    "#    print(sat)"
   ]
  },
  {
   "cell_type": "code",
   "execution_count": null,
   "metadata": {},
   "outputs": [],
   "source": [
    "by_name = {sat.name: sat for sat in satellites}\n",
    "satellite = by_name['ISS (ZARYA)']\n",
    "print(satellite)"
   ]
  },
  {
   "cell_type": "code",
   "execution_count": null,
   "metadata": {},
   "outputs": [],
   "source": [
    "t_now = ts.now()\n",
    "dt_now = ts.now().utc_datetime()\n",
    "dt_morning = dt_now.replace(hour=0,minute=0,second=0, microsecond=0)\n",
    "dt_evening = dt_now.replace(hour=23,minute=59,second=59, microsecond=0)\n",
    "print (dir(dt_morning))\n",
    "#two_hours = ts.utc(2014, 1, 20, 0, range(0, 120, 20))\n",
    "\n",
    "print(dt_morning.strftime('%Y-%m-%d %H:%M'))\n",
    "print(dt_evening.strftime('%Y-%m-%d %H:%M'))"
   ]
  },
  {
   "cell_type": "code",
   "execution_count": null,
   "metadata": {},
   "outputs": [],
   "source": [
    "from skyfield.api import EarthSatellite\n",
    "\n",
    "ts = load.timescale(builtin=True)\n",
    "line1 = '1 25544U 98067A   14020.93268519  .00009878  00000-0  18200-3 0  5082'\n",
    "line2 = '2 25544  51.6498 109.4756 0003572  55.9686 274.8005 15.49815350868473'\n",
    "satellite_tle = EarthSatellite(line1, line2, 'ISS (ZARYA)', ts)\n",
    "print(satellite_tle)\n",
    "print(satellite_tle.epoch.utc_jpl())"
   ]
  },
  {
   "cell_type": "code",
   "execution_count": null,
   "metadata": {},
   "outputs": [],
   "source": []
  },
  {
   "cell_type": "code",
   "execution_count": null,
   "metadata": {},
   "outputs": [],
   "source": [
    "t = ts.utc(2014, 1, 23, 11, 18, 7)\n",
    "\n",
    "days = t - satellite.epoch\n",
    "print('{:.3f} days away from epoch'.format(days))\n",
    "\n",
    "if abs(days) > 14:\n",
    "    satellites = load.tle_file(stations_url, reload=True)"
   ]
  },
  {
   "cell_type": "code",
   "execution_count": null,
   "metadata": {},
   "outputs": [],
   "source": [
    "bluffton = Topos('40.8939 N', '83.8917 W')\n",
    "t0 = ts.utc(2014, 1, 23)\n",
    "t1 = ts.utc(2014, 1, 24)\n",
    "\n",
    "tm = ts.utc(dt_morning)\n",
    "te = ts.utc(dt_evening)\n",
    "t, events = satellite.find_events(bluffton, tm, te, altitude_degrees=30.0)\n",
    "for ti, event in zip(t, events):\n",
    "    name = ('rise above 30°', 'culminate', 'set below 30°')[event]\n",
    "    print(ti.utc_strftime('%Y %b %d %H:%M:%S'), name)"
   ]
  },
  {
   "cell_type": "code",
   "execution_count": null,
   "metadata": {},
   "outputs": [],
   "source": [
    "# You can instead use ts.now() for the current time\n",
    "# t = ts.utc(2014, 1, 23, 11, 18, 7)\n",
    "t = ts.now()\n",
    "geocentric = satellite.at(t)\n",
    "print(geocentric.position.km)"
   ]
  },
  {
   "cell_type": "code",
   "execution_count": null,
   "metadata": {},
   "outputs": [],
   "source": [
    "subpoint = geocentric.subpoint()\n",
    "print('Latitude:', subpoint.latitude)\n",
    "print('Longitude:', subpoint.longitude)\n",
    "print('Elevation (m):', int(subpoint.elevation.m))"
   ]
  },
  {
   "cell_type": "code",
   "execution_count": null,
   "metadata": {},
   "outputs": [],
   "source": [
    "difference = satellite - bluffton\n",
    "print(difference)"
   ]
  },
  {
   "cell_type": "code",
   "execution_count": null,
   "metadata": {},
   "outputs": [],
   "source": [
    "topocentric = difference.at(t)\n",
    "print(topocentric.position.km)\n",
    "\n",
    "alt, az, distance = topocentric.altaz()\n",
    "\n",
    "if alt.degrees > 0:\n",
    "    print('The ISS is above the horizon')\n",
    "\n",
    "print(alt)\n",
    "print(az)\n",
    "print(int(distance.km), 'km')"
   ]
  },
  {
   "cell_type": "code",
   "execution_count": null,
   "metadata": {},
   "outputs": [],
   "source": [
    "ra, dec, distance = topocentric.radec()  # ICRF (\"J2000\")\n",
    "\n",
    "print(ra)\n",
    "print(dec)"
   ]
  },
  {
   "cell_type": "code",
   "execution_count": null,
   "metadata": {},
   "outputs": [],
   "source": [
    "ra, dec, distance = topocentric.radec(epoch='date')\n",
    "\n",
    "print(ra)\n",
    "print(dec)"
   ]
  },
  {
   "cell_type": "code",
   "execution_count": null,
   "metadata": {},
   "outputs": [],
   "source": [
    "eph = load('de421.bsp')\n",
    "satellite = by_name['ISS (ZARYA)']\n",
    "\n",
    "two_hours = ts.utc(2014, 1, 20, 0, range(0, 120, 20))\n",
    "sunlit = satellite.at(two_hours).is_sunlit(eph)\n",
    "print(sunlit)"
   ]
  },
  {
   "cell_type": "code",
   "execution_count": null,
   "metadata": {},
   "outputs": [],
   "source": [
    "for ti, sunlit_i in zip(two_hours, sunlit):\n",
    "    print('{}  {} is in {}'.format(\n",
    "        ti.utc_strftime('%Y-%m-%d %H:%M'),\n",
    "        satellite.name,\n",
    "        'sunlight' if sunlit_i else 'shadow',\n",
    "    ))"
   ]
  },
  {
   "cell_type": "code",
   "execution_count": null,
   "metadata": {},
   "outputs": [],
   "source": []
  }
 ],
 "metadata": {
  "kernelspec": {
   "display_name": "Python 3",
   "language": "python",
   "name": "python3"
  },
  "language_info": {
   "codemirror_mode": {
    "name": "ipython",
    "version": 3
   },
   "file_extension": ".py",
   "mimetype": "text/x-python",
   "name": "python",
   "nbconvert_exporter": "python",
   "pygments_lexer": "ipython3",
   "version": "3.8.3"
  }
 },
 "nbformat": 4,
 "nbformat_minor": 4
}
