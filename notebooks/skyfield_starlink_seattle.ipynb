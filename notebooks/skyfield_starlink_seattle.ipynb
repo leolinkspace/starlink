{
 "cells": [
  {
   "cell_type": "code",
   "execution_count": 1,
   "metadata": {},
   "outputs": [
    {
     "name": "stdout",
     "output_type": "stream",
     "text": [
      "2020-06-19 loaded 545 satellites\n"
     ]
    }
   ],
   "source": [
    "from skyfield.api import Topos, load\n",
    "\n",
    "seattle = Topos('47.6062 N', '122.3321 W')\n",
    "\n",
    "ts = load.timescale(builtin=True)\n",
    "tsn = ts.now()\n",
    "dtn = tsn.utc_datetime()\n",
    "dtm = dtn.replace(hour=0,minute=0,second=0, microsecond=0)\n",
    "dte = dtn.replace(hour=23,minute=59,second=59, microsecond=0)\n",
    "tsm = ts.utc(dtm)\n",
    "tse = ts.utc(dte)\n",
    "\n",
    "starlink_url = 'http://celestrak.com/NORAD/elements/starlink.txt'\n",
    "satellites = load.tle_file(starlink_url)\n",
    "print(tsm.utc_strftime('%Y-%m-%d'),'loaded', len(satellites), 'satellites')"
   ]
  },
  {
   "cell_type": "code",
   "execution_count": 4,
   "metadata": {},
   "outputs": [
    {
     "name": "stdout",
     "output_type": "stream",
     "text": [
      "STARLINK-31 43.13002549285486 111.64997727680435 425.993672287282\n"
     ]
    }
   ],
   "source": [
    "for satellite in satellites[0:1]:\n",
    "    name = satellite.name\n",
    "    #print(dir(satellite))\n",
    "    #print(satellite.satellite['number'])\n",
    "    geocentric = satellite.at(tsn)\n",
    "    subpoint = geocentric.subpoint()\n",
    "    lat = subpoint.latitude.degrees\n",
    "    lon = subpoint.longitude.degrees\n",
    "    elev = subpoint.elevation.km\n",
    "   \n",
    "    print (name,lat,lon, elev)\n",
    "   \n",
    "\n"
   ]
  },
  {
   "cell_type": "code",
   "execution_count": null,
   "metadata": {},
   "outputs": [],
   "source": []
  }
 ],
 "metadata": {
  "kernelspec": {
   "display_name": "Python 3",
   "language": "python",
   "name": "python3"
  },
  "language_info": {
   "codemirror_mode": {
    "name": "ipython",
    "version": 3
   },
   "file_extension": ".py",
   "mimetype": "text/x-python",
   "name": "python",
   "nbconvert_exporter": "python",
   "pygments_lexer": "ipython3",
   "version": "3.8.3"
  }
 },
 "nbformat": 4,
 "nbformat_minor": 4
}
