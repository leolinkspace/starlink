{
 "cells": [
  {
   "cell_type": "code",
   "execution_count": 1,
   "metadata": {},
   "outputs": [
    {
     "name": "stdout",
     "output_type": "stream",
     "text": [
      "Using ../data/2020-06-19_starlink_supplemental.tle\n",
      "Read 523 objects from ../data/2020-06-19_starlink_supplemental.json\n"
     ]
    }
   ],
   "source": [
    "from datetime import date\n",
    "import requests\n",
    "import os.path\n",
    "from os import path\n",
    "import math\n",
    "from tletools import TLE\n",
    "from skyfield.api import Topos, load\n",
    "import json\n",
    "import numpy as np\n",
    "import pandas as pd\n",
    "\n",
    "DAY = 24*60*60\n",
    "EARTH_RADIUS = 6371000.0\n",
    "EARTH_MU = 3.986004418 * 10**14\n",
    "\n",
    "today = date.today()\n",
    "#starlink_url = 'http://celestrak.com/NORAD/elements/starlink.txt'\n",
    "starlink_url = \"http://celestrak.com/NORAD/elements/supplemental/starlink.txt\"\n",
    "tle_file = \"../data/%s_starlink_supplemental.tle\"%today\n",
    "starlink_file = \"../data/%s_starlink_supplemental.json\"%today\n",
    "\n",
    "if not path.exists(tle_file):\n",
    "    r = requests.get(starlink_url, allow_redirects=True)\n",
    "    open(tle_file, 'wb').write(r.content)\n",
    "    print(\"Fetching\",starlink_url )\n",
    "else:\n",
    "    print(\"Using\",tle_file)\n",
    "\n",
    "launches={\n",
    "    19029:{'version': 0.9,'mission': 0},\n",
    "    19074:{'version': 1.0,'mission': 1},\n",
    "    20001:{'version': 1.0,'mission': 2},\n",
    "    20006:{'version': 1.0,'mission': 3},\n",
    "    20012:{'version': 1.0,'mission': 4},\n",
    "    20019:{'version': 1.0,'mission': 5},\n",
    "    20025:{'version': 1.0,'mission': 6},\n",
    "    20035:{'version': 1.0,'mission': 7},\n",
    "    20038:{'version': 1.0,'mission': 8},\n",
    "}\n",
    "\n",
    "if not path.exists(starlink_file):\n",
    "\n",
    "    starlink={}\n",
    "\n",
    "    with open(tle_file , 'r') as tles:\n",
    "        lines = tles.readlines()\n",
    "\n",
    "    objects=int(len(lines)/3)\n",
    "    #objects=1\n",
    "\n",
    "    print (\"Processing %i objects\"%objects)\n",
    "\n",
    "    for i in range(0,objects*3,3):\n",
    "        tle_string = ''.join(lines[i:i+3])\n",
    "        tle_lines = tle_string.strip().splitlines()\n",
    "        tle = TLE.from_lines(*tle_lines)\n",
    "\n",
    "        if '-' in tle.name:\n",
    "            designator=tle.name.split('-')[0]\n",
    "        else:\n",
    "            designator=tle.name.split(' ')[0]\n",
    "        launch=int(tle.int_desig[:5])\n",
    "        mission=launches[launch]['mission']\n",
    "        version=launches[launch]['version']\n",
    "        piece=tle.int_desig[5:]\n",
    "\n",
    "        if len(piece)==1:\n",
    "            number=ord(piece)-64\n",
    "            if number > 8:\n",
    "               number-=1 \n",
    "\n",
    "        if len(piece)==2:\n",
    "\n",
    "            number0=ord(piece[0])-64\n",
    "\n",
    "            number1=ord(piece[1])-64\n",
    "            if number1 > 8:\n",
    "               number1-=1 \n",
    "\n",
    "            number=number0*25+ number1\n",
    "\n",
    "        name=\"%s-%02d%02d\"%(designator,mission,number)\n",
    "\n",
    "\n",
    "        period = DAY / tle.n\n",
    "\n",
    "        semi_major_axis = (((period / (math.pi*2))**2) * EARTH_MU) ** (1/3)\n",
    "        ap_plus_pe = semi_major_axis * 2\n",
    "        ap_minus_pe = tle.ecc * ap_plus_pe\n",
    "        apogee = (ap_plus_pe + ap_minus_pe) / 2\n",
    "        perigee = apogee - ap_minus_pe\n",
    "\n",
    "        apogee -= EARTH_RADIUS\n",
    "        perigee -= EARTH_RADIUS\n",
    "\n",
    "        starlink[tle.norad]={'name':name,'mission':mission,'version':version,\n",
    "                          'apogee':apogee/1000,'perigee':perigee/1000,'period':period/ 60}\n",
    "\n",
    "    print (\"Writing %i objects\"%len(starlink),\"to\",starlink_file)\n",
    "    with open(starlink_file, 'w') as json_file:\n",
    "        json.dump(starlink, json_file, indent=4)\n",
    "\n",
    "else:\n",
    "    with open(starlink_file) as json_file:\n",
    "        starlink = json.load(json_file)\n",
    "    print (\"Read\",len(starlink),\"objects from\",starlink_file)\n"
   ]
  },
  {
   "cell_type": "code",
   "execution_count": 2,
   "metadata": {},
   "outputs": [
    {
     "name": "stdout",
     "output_type": "stream",
     "text": [
      "Loaded 523 objects\n",
      "Starlink on station: 273\n",
      "Starlink manoeuvring: 197\n",
      "Starlink testing: 53\n",
      "Other objects: 0\n"
     ]
    }
   ],
   "source": [
    "satellites = load.tle_file(tle_file)\n",
    "print('Loaded', len(satellites), 'objects')\n",
    "\n",
    "other=[]\n",
    "testing=[]\n",
    "maneuver=[]\n",
    "station=[]\n",
    "\n",
    "for sat in satellites:\n",
    "    satnum=str(sat.model.satnum)\n",
    "    name=starlink[satnum]['name']\n",
    "    apogee=starlink[satnum]['apogee']\n",
    "    perigee=starlink[satnum]['perigee']\n",
    "    version=starlink[satnum]['version']\n",
    "    \n",
    "    if not 'STARLINK' in name:\n",
    "        other.append(sat)\n",
    "    else:\n",
    "    \n",
    "        if version < 1:\n",
    "            testing.append(sat)\n",
    "        else:\n",
    "            if perigee > 500:\n",
    "                station.append(sat)\n",
    "            else:\n",
    "                maneuver.append(sat)\n",
    "           \n",
    "print (\"Starlink on station:\",len(station))\n",
    "print (\"Starlink manoeuvring:\",len(maneuver))\n",
    "print (\"Starlink testing:\",len(testing))\n",
    "print (\"Other objects:\",len(other))\n",
    "    "
   ]
  },
  {
   "cell_type": "code",
   "execution_count": 3,
   "metadata": {},
   "outputs": [],
   "source": [
    "seattle = Topos('47.6062 N', '122.3321 W')\n",
    "degrees=25.0\n",
    "\n",
    "passes_file=\"../data/%s_seattle.json\"%today\n",
    "\n",
    "ts = load.timescale(builtin=True)\n",
    "tsn = ts.now()\n",
    "dtn = tsn.utc_datetime()\n",
    "dtm = dtn.replace(hour=0,minute=0,second=0, microsecond=0)\n",
    "dte = dtn.replace(hour=23,minute=59,second=59, microsecond=0)\n",
    "tsm = ts.utc(dtm)\n",
    "tse = ts.utc(dte)\n",
    "\n",
    "if not path.exists(passes_file):\n",
    "\n",
    "    print (\"Calculating Starlink visibility over Seattle at\",dtm.strftime('%Y-%m-%d'))\n",
    "\n",
    "    passes=[]\n",
    "\n",
    "    for sat in station:\n",
    "        satnum=str(sat.model.satnum)\n",
    "        name=starlink[satnum]['name']\n",
    "        times, events = sat.find_events(seattle, tsm, tse, altitude_degrees=degrees)\n",
    "\n",
    "        if events[0]==1:\n",
    "            start=2\n",
    "        elif events[0]==2:\n",
    "            start=1\n",
    "        else:\n",
    "            start=0\n",
    "\n",
    "        if events[-1]==0:\n",
    "            end=len(times)-1\n",
    "        elif events[-1]==1:\n",
    "            end=len(times)-2\n",
    "        else:\n",
    "            end=len(times)\n",
    "\n",
    "        for i in range(start,end,3):\n",
    "\n",
    "            ts_rise = pd.Timestamp(times[i].utc_iso())\n",
    "            ts_set = pd.Timestamp(times[i+2].utc_iso())\n",
    "            td_visibile = ts_set-ts_rise\n",
    "\n",
    "            #print(name,ts_rise.strftime('%H:%M:%S'),ts_set.strftime('%H:%M:%S'),\"%.1f\"%(td_visibile.seconds/60))\n",
    "\n",
    "            passes.append({'name':name,'norad':satnum,'rise':times[i].utc_iso(),'set':times[i+2].utc_iso(),\"visible\":td_visibile.seconds/60})\n",
    "\n",
    "    print (\"Writing %i passes\"%len(passes),\"to\",passes_file)\n",
    "    with open(passes_file, 'w') as json_file:\n",
    "            json.dump(passes, json_file, indent=4)\n",
    "            \n"
   ]
  },
  {
   "cell_type": "code",
   "execution_count": 4,
   "metadata": {},
   "outputs": [
    {
     "name": "stdout",
     "output_type": "stream",
     "text": [
      "               name  norad                      rise  \\\n",
      "0     STARLINK-0101  44713 2020-06-19 07:08:36+00:00   \n",
      "1     STARLINK-0101  44713 2020-06-19 08:48:27+00:00   \n",
      "2     STARLINK-0101  44713 2020-06-19 10:28:48+00:00   \n",
      "3     STARLINK-0101  44713 2020-06-19 12:08:16+00:00   \n",
      "4     STARLINK-0102  44714 2020-06-19 06:44:10+00:00   \n",
      "...             ...    ...                       ...   \n",
      "1233  STARLINK-0662  45590 2020-06-19 01:45:57+00:00   \n",
      "1234  STARLINK-0662  45590 2020-06-19 03:25:37+00:00   \n",
      "1235  STARLINK-0662  45590 2020-06-19 05:06:02+00:00   \n",
      "1236  STARLINK-0662  45590 2020-06-19 06:45:31+00:00   \n",
      "1237  STARLINK-0662  45590 2020-06-19 08:26:42+00:00   \n",
      "\n",
      "                           set   visible  \n",
      "0    2020-06-19 07:13:03+00:00  4.450000  \n",
      "1    2020-06-19 08:52:36+00:00  4.150000  \n",
      "2    2020-06-19 10:32:32+00:00  3.733333  \n",
      "3    2020-06-19 12:12:58+00:00  4.700000  \n",
      "4    2020-06-19 06:47:53+00:00  3.716667  \n",
      "...                        ...       ...  \n",
      "1233 2020-06-19 01:50:15+00:00  4.300000  \n",
      "1234 2020-06-19 03:29:51+00:00  4.233333  \n",
      "1235 2020-06-19 05:09:43+00:00  3.683333  \n",
      "1236 2020-06-19 06:50:11+00:00  4.666667  \n",
      "1237 2020-06-19 08:27:32+00:00  0.833333  \n",
      "\n",
      "[1238 rows x 5 columns]\n"
     ]
    }
   ],
   "source": [
    "passes = pd.read_json(passes_file, convert_dates=['rise','set'])\n",
    "print(passes)"
   ]
  },
  {
   "cell_type": "code",
   "execution_count": 5,
   "metadata": {},
   "outputs": [
    {
     "name": "stdout",
     "output_type": "stream",
     "text": [
      "                           rises  sets\n",
      "2020-06-19 00:03:08+00:00    1.0   0.0\n",
      "2020-06-19 00:03:48+00:00    1.0   0.0\n",
      "2020-06-19 00:04:58+00:00    1.0   0.0\n",
      "2020-06-19 00:06:55+00:00    0.0   1.0\n",
      "2020-06-19 00:07:54+00:00    1.0   0.0\n",
      "...                          ...   ...\n",
      "2020-06-19 23:53:34+00:00    1.0   0.0\n",
      "2020-06-19 23:54:35+00:00    1.0   0.0\n",
      "2020-06-19 23:56:33+00:00    0.0   1.0\n",
      "2020-06-19 23:56:40+00:00    0.0   1.0\n",
      "2020-06-19 23:58:18+00:00    0.0   1.0\n",
      "\n",
      "[2462 rows x 2 columns]\n"
     ]
    }
   ],
   "source": [
    "rise_count = passes.rise.value_counts()\n",
    "set_count = passes.set.value_counts()\n",
    "df2 = pd.concat([rise_count, set_count], axis=1, keys=[\"rises\", \"sets\",\"name\"],sort=True)\n",
    "df2.fillna(0, inplace=True)\n",
    "print (df2)"
   ]
  },
  {
   "cell_type": "code",
   "execution_count": 6,
   "metadata": {},
   "outputs": [
    {
     "name": "stdout",
     "output_type": "stream",
     "text": [
      "                           rises  sets  diff\n",
      "2020-06-19 00:03:08+00:00    1.0   0.0   1.0\n",
      "2020-06-19 00:03:48+00:00    1.0   0.0   1.0\n",
      "2020-06-19 00:04:58+00:00    1.0   0.0   1.0\n",
      "2020-06-19 00:06:55+00:00    0.0   1.0  -1.0\n",
      "2020-06-19 00:07:54+00:00    1.0   0.0   1.0\n",
      "...                          ...   ...   ...\n",
      "2020-06-19 23:53:34+00:00    1.0   0.0   1.0\n",
      "2020-06-19 23:54:35+00:00    1.0   0.0   1.0\n",
      "2020-06-19 23:56:33+00:00    0.0   1.0  -1.0\n",
      "2020-06-19 23:56:40+00:00    0.0   1.0  -1.0\n",
      "2020-06-19 23:58:18+00:00    0.0   1.0  -1.0\n",
      "\n",
      "[2462 rows x 3 columns]\n"
     ]
    }
   ],
   "source": [
    "df2[\"diff\"] = df2[\"rises\"] - df2[\"sets\"]\n",
    "print(df2)"
   ]
  },
  {
   "cell_type": "code",
   "execution_count": 7,
   "metadata": {},
   "outputs": [
    {
     "name": "stdout",
     "output_type": "stream",
     "text": [
      "2020-06-19 00:00:00+00:00    3.0\n",
      "2020-06-19 00:05:00+00:00    4.0\n",
      "2020-06-19 00:10:00+00:00    2.0\n",
      "2020-06-19 00:15:00+00:00    2.0\n",
      "2020-06-19 00:20:00+00:00    3.0\n",
      "                            ... \n",
      "2020-06-19 23:35:00+00:00    3.0\n",
      "2020-06-19 23:40:00+00:00    3.0\n",
      "2020-06-19 23:45:00+00:00    3.0\n",
      "2020-06-19 23:50:00+00:00    3.0\n",
      "2020-06-19 23:55:00+00:00    0.0\n",
      "Freq: 5T, Name: diff, Length: 288, dtype: float64\n"
     ]
    }
   ],
   "source": [
    "counts = df2[\"diff\"].resample(\"5min\").sum().fillna(0).cumsum()\n",
    "print(counts)"
   ]
  },
  {
   "cell_type": "code",
   "execution_count": 8,
   "metadata": {},
   "outputs": [
    {
     "name": "stderr",
     "output_type": "stream",
     "text": [
      "/usr/lib64/python3.8/site-packages/pandas/core/arrays/datetimes.py:1266: UserWarning: Converting to PeriodArray/Index representation will drop timezone information.\n",
      "  warnings.warn(\n"
     ]
    },
    {
     "data": {
      "text/plain": [
       "<matplotlib.axes._subplots.AxesSubplot at 0x7fad6fd43040>"
      ]
     },
     "execution_count": 8,
     "metadata": {},
     "output_type": "execute_result"
    },
    {
     "data": {
      "image/png": "[encoded data removed]",
      "text/plain": [
       "<Figure size 432x288 with 1 Axes>"
      ]
     },
     "metadata": {
      "needs_background": "light"
     },
     "output_type": "display_data"
    }
   ],
   "source": [
    "counts.plot()"
   ]
  },
  {
   "cell_type": "code",
   "execution_count": 9,
   "metadata": {},
   "outputs": [
    {
     "name": "stdout",
     "output_type": "stream",
     "text": [
      "2020-06-19 00:00:00+00:00    2.0\n",
      "2020-06-19 00:30:00+00:00    1.0\n",
      "2020-06-19 01:00:00+00:00    2.0\n",
      "2020-06-19 01:30:00+00:00    3.0\n",
      "2020-06-19 02:00:00+00:00    3.0\n",
      "2020-06-19 02:30:00+00:00    3.0\n",
      "2020-06-19 03:00:00+00:00    1.0\n",
      "2020-06-19 03:30:00+00:00    1.0\n",
      "2020-06-19 04:00:00+00:00    1.0\n",
      "2020-06-19 04:30:00+00:00    1.0\n",
      "2020-06-19 05:00:00+00:00    1.0\n",
      "2020-06-19 05:30:00+00:00    3.0\n",
      "2020-06-19 06:00:00+00:00    5.0\n",
      "2020-06-19 06:30:00+00:00    3.0\n",
      "2020-06-19 07:00:00+00:00    1.0\n",
      "2020-06-19 07:30:00+00:00    2.0\n",
      "2020-06-19 08:00:00+00:00    6.0\n",
      "2020-06-19 08:30:00+00:00    3.0\n",
      "2020-06-19 09:00:00+00:00    4.0\n",
      "2020-06-19 09:30:00+00:00    4.0\n",
      "2020-06-19 10:00:00+00:00    5.0\n",
      "2020-06-19 10:30:00+00:00    4.0\n",
      "2020-06-19 11:00:00+00:00    4.0\n",
      "2020-06-19 11:30:00+00:00    4.0\n",
      "2020-06-19 12:00:00+00:00    3.0\n",
      "2020-06-19 12:30:00+00:00    5.0\n",
      "2020-06-19 13:00:00+00:00    5.0\n",
      "2020-06-19 13:30:00+00:00    3.0\n",
      "2020-06-19 14:00:00+00:00    3.0\n",
      "2020-06-19 14:30:00+00:00    4.0\n",
      "2020-06-19 15:00:00+00:00    4.0\n",
      "2020-06-19 15:30:00+00:00    4.0\n",
      "2020-06-19 16:00:00+00:00    5.0\n",
      "2020-06-19 16:30:00+00:00    6.0\n",
      "2020-06-19 17:00:00+00:00    5.0\n",
      "2020-06-19 17:30:00+00:00    4.0\n",
      "2020-06-19 18:00:00+00:00    4.0\n",
      "2020-06-19 18:30:00+00:00    4.0\n",
      "2020-06-19 19:00:00+00:00    5.0\n",
      "2020-06-19 19:30:00+00:00    6.0\n",
      "2020-06-19 20:00:00+00:00    5.0\n",
      "2020-06-19 20:30:00+00:00    4.0\n",
      "2020-06-19 21:00:00+00:00    4.0\n",
      "2020-06-19 21:30:00+00:00    4.0\n",
      "2020-06-19 22:00:00+00:00    3.0\n",
      "2020-06-19 22:30:00+00:00    4.0\n",
      "2020-06-19 23:00:00+00:00    3.0\n",
      "2020-06-19 23:30:00+00:00    0.0\n",
      "Freq: 30T, Name: diff, dtype: float64\n"
     ]
    }
   ],
   "source": [
    "counts30 = df2[\"diff\"].resample(\"30min\").sum().fillna(0).cumsum()\n",
    "print(counts30)"
   ]
  },
  {
   "cell_type": "code",
   "execution_count": null,
   "metadata": {},
   "outputs": [],
   "source": []
  }
 ],
 "metadata": {
  "kernelspec": {
   "display_name": "Python 3",
   "language": "python",
   "name": "python3"
  },
  "language_info": {
   "codemirror_mode": {
    "name": "ipython",
    "version": 3
   },
   "file_extension": ".py",
   "mimetype": "text/x-python",
   "name": "python",
   "nbconvert_exporter": "python",
   "pygments_lexer": "ipython3",
   "version": "3.8.3"
  }
 },
 "nbformat": 4,
 "nbformat_minor": 4
}
