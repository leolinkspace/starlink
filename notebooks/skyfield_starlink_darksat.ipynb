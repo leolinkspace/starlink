{
 "cells": [
  {
   "cell_type": "code",
   "execution_count": 1,
   "metadata": {},
   "outputs": [
    {
     "name": "stdout",
     "output_type": "stream",
     "text": [
      "Loaded 545 satellites\n",
      "EarthSatellite 'STARLINK-1130 (DARKSAT)' number=44932 epoch=2020-06-18T16:00:01Z\n"
     ]
    }
   ],
   "source": [
    "from skyfield.api import Topos, load\n",
    "\n",
    "starlink_url = 'http://celestrak.com/NORAD/elements/starlink.txt'\n",
    "satellites = load.tle_file(starlink_url)\n",
    "print('Loaded', len(satellites), 'satellites')\n",
    "#for sat in satellites:\n",
    "#    print(sat)\n",
    "\n",
    "ts = load.timescale(builtin=True)\n",
    "t_now = ts.now()\n",
    "dt_now = ts.now().utc_datetime()\n",
    "dt_morning = dt_now.replace(hour=0,minute=0,second=0, microsecond=0)\n",
    "dt_evening = dt_now.replace(hour=23,minute=59,second=59, microsecond=0)\n",
    "\n",
    "tm = ts.utc(dt_morning)\n",
    "te = ts.utc(dt_evening)\n",
    "\n",
    "seattle = Topos('47.6062 N', '122.3321 W')\n",
    "\n",
    "by_name = {sat.name: sat for sat in satellites}\n",
    "satellite = by_name['STARLINK-1130 (DARKSAT)']\n",
    "print(satellite)\n"
   ]
  },
  {
   "cell_type": "code",
   "execution_count": 2,
   "metadata": {},
   "outputs": [
    {
     "name": "stdout",
     "output_type": "stream",
     "text": [
      "EarthSatellite 'STARLINK-1130 (DARKSAT)' number=44932 epoch=2020-06-18T16:00:01Z\n",
      "Latitude: 30deg 54' 17.4\"\n",
      "Longitude: 27deg 19' 25.6\"\n",
      "Elevation: 550 km\n"
     ]
    }
   ],
   "source": [
    "t = ts.now()\n",
    "\n",
    "geocentric = satellite.at(t)\n",
    "#print(geocentric.position.km)\n",
    "\n",
    "subpoint = geocentric.subpoint()\n",
    "print(satellite)\n",
    "print('Latitude:', subpoint.latitude)\n",
    "print('Longitude:', subpoint.longitude)\n",
    "#print('Elevation (m):', int(subpoint.elevation.m))\n",
    "\n",
    "above = satellite - Topos(subpoint.latitude,subpoint.longitude)\n",
    "topocentric = above.at(t)\n",
    "alt, az, distance = topocentric.altaz()\n",
    "print('Elevation:',int(distance.km),'km')\n"
   ]
  },
  {
   "cell_type": "code",
   "execution_count": 3,
   "metadata": {},
   "outputs": [
    {
     "name": "stdout",
     "output_type": "stream",
     "text": [
      "2020 Jun 19 00:24:16 rise above 25.0°\n",
      "2020 Jun 19 00:25:27 culminate\n",
      "2020 Jun 19 00:26:44 set below 25.0°\n",
      "2020 Jun 19 17:38:41 rise above 25.0°\n",
      "2020 Jun 19 17:40:51 culminate\n",
      "2020 Jun 19 17:43:05 set below 25.0°\n",
      "2020 Jun 19 19:18:28 rise above 25.0°\n",
      "2020 Jun 19 19:20:33 culminate\n",
      "2020 Jun 19 19:22:38 set below 25.0°\n",
      "2020 Jun 19 20:58:51 rise above 25.0°\n",
      "2020 Jun 19 21:00:42 culminate\n",
      "2020 Jun 19 21:02:34 set below 25.0°\n",
      "2020 Jun 19 22:38:19 rise above 25.0°\n",
      "2020 Jun 19 22:40:39 culminate\n",
      "2020 Jun 19 22:42:59 set below 25.0°\n"
     ]
    }
   ],
   "source": [
    "degrees=25.0\n",
    "\n",
    "times, events = satellite.find_events(seattle, tm, te, altitude_degrees=degrees)\n",
    "\n",
    "for ti, event in zip(times, events):\n",
    "    name = ('rise above %s°'%degrees, 'culminate', 'set below %s°'%degrees)[event]\n",
    "    print(ti.utc_strftime('%Y %b %d %H:%M:%S'), name)"
   ]
  },
  {
   "cell_type": "code",
   "execution_count": 4,
   "metadata": {},
   "outputs": [
    {
     "name": "stdout",
     "output_type": "stream",
     "text": [
      "['ITRF_position_velocity_error', '__add__', '__class__', '__delattr__', '__dict__', '__dir__', '__doc__', '__eq__', '__format__', '__ge__', '__getattribute__', '__gt__', '__hash__', '__init__', '__init_subclass__', '__le__', '__lt__', '__module__', '__ne__', '__new__', '__reduce__', '__reduce_ex__', '__repr__', '__setattr__', '__sizeof__', '__str__', '__sub__', '__subclasshook__', '__weakref__', '_at', '_observe_from_bcrs', '_position_and_velocity_TEME_km', '_setup', '_snag_observer_data', 'at', 'center', 'center_name', 'ephemeris', 'epoch', 'find_events', 'from_satrec', 'geometry_of', 'model', 'name', 'satellite', 'target', 'target_name', 'topos']\n",
      "None\n"
     ]
    }
   ],
   "source": [
    "print (dir(satellite))\n",
    "print (satellite.ephemeris)"
   ]
  },
  {
   "cell_type": "code",
   "execution_count": null,
   "metadata": {},
   "outputs": [],
   "source": []
  }
 ],
 "metadata": {
  "kernelspec": {
   "display_name": "Python 3",
   "language": "python",
   "name": "python3"
  },
  "language_info": {
   "codemirror_mode": {
    "name": "ipython",
    "version": 3
   },
   "file_extension": ".py",
   "mimetype": "text/x-python",
   "name": "python",
   "nbconvert_exporter": "python",
   "pygments_lexer": "ipython3",
   "version": "3.8.3"
  }
 },
 "nbformat": 4,
 "nbformat_minor": 4
}
